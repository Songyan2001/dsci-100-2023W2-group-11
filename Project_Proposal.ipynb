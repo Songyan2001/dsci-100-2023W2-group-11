{
 "cells": [
  {
   "cell_type": "markdown",
   "id": "cdb015f7",
   "metadata": {},
   "source": [
    "# Group 11 Project Proposal"
   ]
  },
  {
   "cell_type": "markdown",
   "id": "80400055",
   "metadata": {},
   "source": [
    "### Introduction\n",
    "\n",
    "Tennis is the world's most popular individual sport worldwide. At the elite level, the sport is played on various types of surfaces including hard (US Open), clay (Paris), and grass (Wimbledon). The surface used can greatly affect the game since the bounces go at different speeds. For example, clay slows the ball down thus giving precise players an advantage whereas grass prefers quicker players. Therefore, our research question is that: Based on the number of aces in a game, will the surface of a court be hard, or clay? \n",
    "\n",
    "To answer the question, we will use the data set provided by “Tennis Data”.  There is a mix of qualitative and quantitative variables about various tennis games. Each observation is a specific tennis game whereas the variables provide insight into the score, number of aces, surface, tournament and more. "
   ]
  },
  {
   "cell_type": "markdown",
   "id": "9502cbd1",
   "metadata": {},
   "source": [
    "### Preliminary exploratory data analysis: \n",
    "\n",
    "Demonstrate that the dataset can be read from the web into Python \n",
    "\n",
    "Clean and wrangle your data into a tidy format \n",
    "\n",
    "Using only training data, summarize the data in at least one table (this is exploratory data analysis). An example of a useful table could be one that reports the number of observations in each class, the means of the predictor variables you plan to use in your analysis and how many rows have missing data.  \n",
    "\n",
    "Using only training data, visualize the data with at least one plot relevant to the analysis you plan to do (this is exploratory data analysis). An example of a useful visualization could be one that compares the distributions of each of the predictor variables you plan to use in your analysis. "
   ]
  },
  {
   "cell_type": "code",
   "execution_count": 21,
   "id": "e57f5ade-b0b9-4b44-afef-c89b12488475",
   "metadata": {
    "tags": []
   },
   "outputs": [
    {
     "data": {
      "text/html": [
       "<div>\n",
       "<style scoped>\n",
       "    .dataframe tbody tr th:only-of-type {\n",
       "        vertical-align: middle;\n",
       "    }\n",
       "\n",
       "    .dataframe tbody tr th {\n",
       "        vertical-align: top;\n",
       "    }\n",
       "\n",
       "    .dataframe thead th {\n",
       "        text-align: right;\n",
       "    }\n",
       "</style>\n",
       "<table border=\"1\" class=\"dataframe\">\n",
       "  <thead>\n",
       "    <tr style=\"text-align: right;\">\n",
       "      <th></th>\n",
       "      <th>match_num</th>\n",
       "      <th>surface</th>\n",
       "      <th>minutes</th>\n",
       "      <th>year</th>\n",
       "      <th>total_aces</th>\n",
       "    </tr>\n",
       "  </thead>\n",
       "  <tbody>\n",
       "    <tr>\n",
       "      <th>0</th>\n",
       "      <td>271</td>\n",
       "      <td>Hard</td>\n",
       "      <td>91.0</td>\n",
       "      <td>2017</td>\n",
       "      <td>11.0</td>\n",
       "    </tr>\n",
       "    <tr>\n",
       "      <th>1</th>\n",
       "      <td>272</td>\n",
       "      <td>Hard</td>\n",
       "      <td>130.0</td>\n",
       "      <td>2017</td>\n",
       "      <td>22.0</td>\n",
       "    </tr>\n",
       "    <tr>\n",
       "      <th>2</th>\n",
       "      <td>273</td>\n",
       "      <td>Hard</td>\n",
       "      <td>125.0</td>\n",
       "      <td>2017</td>\n",
       "      <td>8.0</td>\n",
       "    </tr>\n",
       "    <tr>\n",
       "      <th>3</th>\n",
       "      <td>275</td>\n",
       "      <td>Hard</td>\n",
       "      <td>75.0</td>\n",
       "      <td>2017</td>\n",
       "      <td>22.0</td>\n",
       "    </tr>\n",
       "    <tr>\n",
       "      <th>4</th>\n",
       "      <td>276</td>\n",
       "      <td>Hard</td>\n",
       "      <td>90.0</td>\n",
       "      <td>2017</td>\n",
       "      <td>2.0</td>\n",
       "    </tr>\n",
       "  </tbody>\n",
       "</table>\n",
       "</div>"
      ],
      "text/plain": [
       "   match_num surface  minutes  year  total_aces\n",
       "0        271    Hard     91.0  2017        11.0\n",
       "1        272    Hard    130.0  2017        22.0\n",
       "2        273    Hard    125.0  2017         8.0\n",
       "3        275    Hard     75.0  2017        22.0\n",
       "4        276    Hard     90.0  2017         2.0"
      ]
     },
     "execution_count": 21,
     "metadata": {},
     "output_type": "execute_result"
    }
   ],
   "source": [
    "import pandas as pd \n",
    "\n",
    "tennis_2017=pd.read_csv('https://raw.githubusercontent.com/JeffSackmann/tennis_atp/master/atp_matches_2017.csv').loc[:, [\n",
    "    'match_num',\n",
    "    'surface',\n",
    "    'minutes',\n",
    "    'w_ace',\n",
    "    'l_ace']\n",
    "].dropna().assign(year = '2017')\n",
    "\n",
    "tennis_2018 = pd.read_csv('https://raw.githubusercontent.com/JeffSackmann/tennis_atp/master/atp_matches_2016.csv').loc[:, [\n",
    "    'match_num',\n",
    "    'surface',\n",
    "    'minutes',\n",
    "    'w_ace',\n",
    "    'l_ace']\n",
    "].dropna().assign(year = '2018')\n",
    "\n",
    "\n",
    "tennis_2019 = pd.read_csv('https://raw.githubusercontent.com/JeffSackmann/tennis_atp/master/atp_matches_2019.csv').loc[:, [\n",
    "    'match_num',\n",
    "    'surface',\n",
    "    'minutes',\n",
    "    'w_ace',\n",
    "    'l_ace']\n",
    "].dropna().assign(year = '2019')\n",
    "\n",
    "##Combines the csvs\n",
    "files= [tennis_2017,tennis_2018,tennis_2019]\n",
    "tennis_pre = pd.concat(files)\n",
    "\n",
    "##Sum aces and drop other cols\n",
    "tennis = tennis_pre.assign(total_aces = tennis_pre[\"w_ace\"] + tennis_pre[\"l_ace\"]).drop(columns = [\"w_ace\",\"l_ace\"])\n"
   ]
  },
  {
   "cell_type": "code",
   "execution_count": 33,
   "id": "61ffa468-456a-454e-905c-95219d6ac110",
   "metadata": {
    "tags": []
   },
   "outputs": [
    {
     "ename": "TypeError",
     "evalue": "'UndefinedType' object is not callable",
     "output_type": "error",
     "traceback": [
      "\u001b[0;31m---------------------------------------------------------------------------\u001b[0m",
      "\u001b[0;31mTypeError\u001b[0m                                 Traceback (most recent call last)",
      "Cell \u001b[0;32mIn[33], line 7\u001b[0m\n\u001b[1;32m      1\u001b[0m \u001b[38;5;28;01mimport\u001b[39;00m \u001b[38;5;21;01maltair\u001b[39;00m \u001b[38;5;28;01mas\u001b[39;00m \u001b[38;5;21;01malt\u001b[39;00m\n\u001b[1;32m      3\u001b[0m \u001b[38;5;66;03m#The following code makes a scatter plot showing relationship between minutes and total aces.\u001b[39;00m\n\u001b[1;32m      4\u001b[0m \n\u001b[1;32m      5\u001b[0m \u001b[38;5;66;03m#Not sure why an error is popping up hear\u001b[39;00m\n\u001b[1;32m      6\u001b[0m aces_per_surface \u001b[38;5;241m=\u001b[39m alt\u001b[38;5;241m.\u001b[39mChart(tennis)\u001b[38;5;241m.\u001b[39mmark_point(opacity\u001b[38;5;241m=\u001b[39m\u001b[38;5;241m0.4\u001b[39m)\u001b[38;5;241m.\u001b[39mencode(\n\u001b[0;32m----> 7\u001b[0m     x\u001b[38;5;241m=\u001b[39m\u001b[43malt\u001b[49m\u001b[38;5;241;43m.\u001b[39;49m\u001b[43mX\u001b[49m\u001b[43m(\u001b[49m\u001b[38;5;124;43m\"\u001b[39;49m\u001b[38;5;124;43mminutes\u001b[39;49m\u001b[38;5;124;43m\"\u001b[39;49m\u001b[43m)\u001b[49m\u001b[38;5;241;43m.\u001b[39;49m\u001b[43mtitle\u001b[49m\u001b[43m(\u001b[49m\u001b[38;5;124;43m\"\u001b[39;49m\u001b[38;5;124;43mGame Length in Minutes\u001b[39;49m\u001b[38;5;124;43m\"\u001b[39;49m\u001b[43m)\u001b[49m\u001b[38;5;241m.\u001b[39mscale(zero\u001b[38;5;241m=\u001b[39m\u001b[38;5;28;01mFalse\u001b[39;00m),\n\u001b[1;32m      8\u001b[0m     y\u001b[38;5;241m=\u001b[39malt\u001b[38;5;241m.\u001b[39mY(\u001b[38;5;124m\"\u001b[39m\u001b[38;5;124mtotal_aces\u001b[39m\u001b[38;5;124m\"\u001b[39m)\u001b[38;5;241m.\u001b[39mtitle(\u001b[38;5;124m\"\u001b[39m\u001b[38;5;124mTotal Aces in the Game\u001b[39m\u001b[38;5;124m\"\u001b[39m)\u001b[38;5;241m.\u001b[39mscale(zero\u001b[38;5;241m=\u001b[39m\u001b[38;5;28;01mFalse\u001b[39;00m),\n\u001b[1;32m      9\u001b[0m     color\u001b[38;5;241m=\u001b[39m\u001b[38;5;124m\"\u001b[39m\u001b[38;5;124msurface\u001b[39m\u001b[38;5;124m\"\u001b[39m)\n",
      "\u001b[0;31mTypeError\u001b[0m: 'UndefinedType' object is not callable"
     ]
    }
   ],
   "source": [
    "import altair as alt\n",
    "\n",
    "#The following code makes a scatter plot showing relationship between minutes and total aces.\n",
    "\n",
    "#Not sure why an error is popping up hear\n",
    "aces_per_surface = alt.Chart(tennis).mark_point(opacity=0.4).encode(\n",
    "    x=alt.X(\"minutes\").title(\"Game Length in Minutes\").scale(zero=False),\n",
    "    y=alt.Y(\"total_aces\").title(\"Total Aces in the Game\").scale(zero=False),\n",
    "    color=\"surface\")"
   ]
  },
  {
   "cell_type": "markdown",
   "id": "0ceb81ad",
   "metadata": {},
   "source": [
    "### Citations"
   ]
  },
  {
   "cell_type": "code",
   "execution_count": null,
   "id": "e822f97b-db71-48e8-b4df-c1c9ad803cf1",
   "metadata": {},
   "outputs": [],
   "source": []
  },
  {
   "cell_type": "code",
   "execution_count": null,
   "id": "726e01cc",
   "metadata": {},
   "outputs": [],
   "source": []
  }
 ],
 "metadata": {
  "kernelspec": {
   "display_name": "Python 3 (ipykernel)",
   "language": "python",
   "name": "python3"
  },
  "language_info": {
   "codemirror_mode": {
    "name": "ipython",
    "version": 3
   },
   "file_extension": ".py",
   "mimetype": "text/x-python",
   "name": "python",
   "nbconvert_exporter": "python",
   "pygments_lexer": "ipython3",
   "version": "3.10.8"
  }
 },
 "nbformat": 4,
 "nbformat_minor": 5
}
