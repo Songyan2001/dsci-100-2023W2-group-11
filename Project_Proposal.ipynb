{
 "cells": [
  {
   "cell_type": "markdown",
   "id": "12a82c63-222a-4096-b639-0d98551096d7",
   "metadata": {},
   "source": [
    "# Group 11 Project Proposal"
   ]
  },
  {
   "cell_type": "markdown",
   "id": "42b46180-abb2-450d-8f05-c0e0164dfbe1",
   "metadata": {},
   "source": [
    "### Introduction\n",
    "\n",
    "Tennis is the world's most popular individual sport worldwide. At the elite level, the sport is played on various types of surfaces including hard (US Open), clay (Paris), and grass (Wimbledon). The surface used can greatly affect the game since the bounces go at different speeds. For example, clay slows the ball down thus giving precise players an advantage whereas grass prefers quicker players. Therefore, our research question is that: Based on the number of aces in a game, will the surface of a court be hard, or clay? \n",
    "\n",
    "To answer the question, we will use the data set provided by “Tennis Data”.  There is a mix of qualitative and quantitative variables about various tennis games. Each observation is a specific tennis game whereas the variables provide insight into the score, number of aces, surface, tournament and more. "
   ]
  },
  {
   "cell_type": "markdown",
   "id": "9e55cbeb-5461-44d3-b289-4593877a361b",
   "metadata": {},
   "source": [
    "### Preliminary exploratory data analysis: \n",
    "\n",
    "Demonstrate that the dataset can be read from the web into Python \n",
    "\n",
    "Clean and wrangle your data into a tidy format \n",
    "\n",
    "Using only training data, summarize the data in at least one table (this is exploratory data analysis). An example of a useful table could be one that reports the number of observations in each class, the means of the predictor variables you plan to use in your analysis and how many rows have missing data.  \n",
    "\n",
    "Using only training data, visualize the data with at least one plot relevant to the analysis you plan to do (this is exploratory data analysis). An example of a useful visualization could be one that compares the distributions of each of the predictor variables you plan to use in your analysis. "
   ]
  },
  {
   "cell_type": "code",
   "execution_count": 25,
   "id": "bc930b27-7d9e-4b54-bc6f-3abf4e0873c9",
   "metadata": {},
   "outputs": [
    {
     "data": {
      "text/html": [
       "<div>\n",
       "<style scoped>\n",
       "    .dataframe tbody tr th:only-of-type {\n",
       "        vertical-align: middle;\n",
       "    }\n",
       "\n",
       "    .dataframe tbody tr th {\n",
       "        vertical-align: top;\n",
       "    }\n",
       "\n",
       "    .dataframe thead th {\n",
       "        text-align: right;\n",
       "    }\n",
       "</style>\n",
       "<table border=\"1\" class=\"dataframe\">\n",
       "  <thead>\n",
       "    <tr style=\"text-align: right;\">\n",
       "      <th></th>\n",
       "      <th>surface</th>\n",
       "      <th>minutes</th>\n",
       "      <th>w_ace</th>\n",
       "      <th>l_ace</th>\n",
       "    </tr>\n",
       "  </thead>\n",
       "  <tbody>\n",
       "    <tr>\n",
       "      <th>0</th>\n",
       "      <td>Hard</td>\n",
       "      <td>91.0</td>\n",
       "      <td>11.0</td>\n",
       "      <td>0.0</td>\n",
       "    </tr>\n",
       "    <tr>\n",
       "      <th>1</th>\n",
       "      <td>Hard</td>\n",
       "      <td>130.0</td>\n",
       "      <td>11.0</td>\n",
       "      <td>11.0</td>\n",
       "    </tr>\n",
       "    <tr>\n",
       "      <th>2</th>\n",
       "      <td>Hard</td>\n",
       "      <td>125.0</td>\n",
       "      <td>7.0</td>\n",
       "      <td>1.0</td>\n",
       "    </tr>\n",
       "    <tr>\n",
       "      <th>3</th>\n",
       "      <td>Hard</td>\n",
       "      <td>75.0</td>\n",
       "      <td>12.0</td>\n",
       "      <td>10.0</td>\n",
       "    </tr>\n",
       "    <tr>\n",
       "      <th>4</th>\n",
       "      <td>Hard</td>\n",
       "      <td>90.0</td>\n",
       "      <td>1.0</td>\n",
       "      <td>1.0</td>\n",
       "    </tr>\n",
       "    <tr>\n",
       "      <th>...</th>\n",
       "      <td>...</td>\n",
       "      <td>...</td>\n",
       "      <td>...</td>\n",
       "      <td>...</td>\n",
       "    </tr>\n",
       "    <tr>\n",
       "      <th>2906</th>\n",
       "      <td>Hard</td>\n",
       "      <td>NaN</td>\n",
       "      <td>NaN</td>\n",
       "      <td>NaN</td>\n",
       "    </tr>\n",
       "    <tr>\n",
       "      <th>2907</th>\n",
       "      <td>Hard</td>\n",
       "      <td>NaN</td>\n",
       "      <td>NaN</td>\n",
       "      <td>NaN</td>\n",
       "    </tr>\n",
       "    <tr>\n",
       "      <th>2908</th>\n",
       "      <td>Hard</td>\n",
       "      <td>NaN</td>\n",
       "      <td>NaN</td>\n",
       "      <td>NaN</td>\n",
       "    </tr>\n",
       "    <tr>\n",
       "      <th>2909</th>\n",
       "      <td>Hard</td>\n",
       "      <td>NaN</td>\n",
       "      <td>NaN</td>\n",
       "      <td>NaN</td>\n",
       "    </tr>\n",
       "    <tr>\n",
       "      <th>2910</th>\n",
       "      <td>Hard</td>\n",
       "      <td>NaN</td>\n",
       "      <td>NaN</td>\n",
       "      <td>NaN</td>\n",
       "    </tr>\n",
       "  </tbody>\n",
       "</table>\n",
       "<p>2911 rows × 4 columns</p>\n",
       "</div>"
      ],
      "text/plain": [
       "     surface  minutes  w_ace  l_ace\n",
       "0       Hard     91.0   11.0    0.0\n",
       "1       Hard    130.0   11.0   11.0\n",
       "2       Hard    125.0    7.0    1.0\n",
       "3       Hard     75.0   12.0   10.0\n",
       "4       Hard     90.0    1.0    1.0\n",
       "...      ...      ...    ...    ...\n",
       "2906    Hard      NaN    NaN    NaN\n",
       "2907    Hard      NaN    NaN    NaN\n",
       "2908    Hard      NaN    NaN    NaN\n",
       "2909    Hard      NaN    NaN    NaN\n",
       "2910    Hard      NaN    NaN    NaN\n",
       "\n",
       "[2911 rows x 4 columns]"
      ]
     },
     "execution_count": 25,
     "metadata": {},
     "output_type": "execute_result"
    }
   ],
   "source": [
    "import pandas as pd \n",
    "tennis_2017=pd.read_csv('https://raw.githubusercontent.com/JeffSackmann/tennis_atp/master/atp_matches_2017.csv').loc[:, [\n",
    "    '\n",
    "    'surface',\n",
    "    'minutes',\n",
    "    'w_ace',\n",
    "    'l_ace']\n",
    "]\n",
    "\n",
    "tennis_2017\n"
   ]
  },
  {
   "cell_type": "markdown",
   "id": "8ce2b8ce-b121-4c38-9b7b-3052cd5fc25d",
   "metadata": {},
   "source": [
    "### Common Mistakes in proposals, according to the TA: \n",
    "These are just notes I think that would be hlepful \n",
    "Need good data set \n",
    "More features than you need -> filter columns nad state and explain  whihch ones we are using \n"
   ]
  },
  {
   "cell_type": "markdown",
   "id": "6392c6ac-5785-4028-bab1-2bcb362b09b6",
   "metadata": {},
   "source": [
    "### Citations"
   ]
  },
  {
   "cell_type": "code",
   "execution_count": null,
   "id": "7c5f2fd0-1b62-40af-8426-5929d6b3a5c1",
   "metadata": {},
   "outputs": [],
   "source": []
  }
 ],
 "metadata": {
  "kernelspec": {
   "display_name": "Python 3 (ipykernel)",
   "language": "python",
   "name": "python3"
  },
  "language_info": {
   "codemirror_mode": {
    "name": "ipython",
    "version": 3
   },
   "file_extension": ".py",
   "mimetype": "text/x-python",
   "name": "python",
   "nbconvert_exporter": "python",
   "pygments_lexer": "ipython3",
   "version": "3.11.6"
  }
 },
 "nbformat": 4,
 "nbformat_minor": 5
}
