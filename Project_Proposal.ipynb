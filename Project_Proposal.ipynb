{
 "cells": [
  {
   "cell_type": "markdown",
   "id": "cdb015f7",
   "metadata": {},
   "source": [
    "# Group 11 Project Proposal"
   ]
  },
  {
   "cell_type": "markdown",
   "id": "80400055",
   "metadata": {},
   "source": [
    "### Introduction\n",
    "\n",
    "Tennis is the world's most popular individual sport worldwide. At the elite level, the sport is played on various types of surfaces including hard (US Open), clay (Paris), and grass (Wimbledon). The surface used can greatly affect the game since the bounces go at different speeds. For example, clay slows the ball down thus giving precise players an advantage whereas grass prefers quicker players. Therefore, our research question is that: Based on the number of aces in a game, will the surface of a court be hard, or clay? \n",
    "\n",
    "To answer the question, we will use the data set provided by “Tennis Data”.  There is a mix of qualitative and quantitative variables about various tennis games. Each observation is a specific tennis game whereas the variables provide insight into the score, number of aces, surface, tournament and more. "
   ]
  },
  {
   "cell_type": "markdown",
   "id": "9502cbd1",
   "metadata": {},
   "source": [
    "### Preliminary exploratory data analysis: \n",
    "\n",
    "Demonstrate that the dataset can be read from the web into Python \n",
    "\n",
    "Clean and wrangle your data into a tidy format \n",
    "\n",
    "Using only training data, summarize the data in at least one table (this is exploratory data analysis). An example of a useful table could be one that reports the number of observations in each class, the means of the predictor variables you plan to use in your analysis and how many rows have missing data.  \n",
    "\n",
    "Using only training data, visualize the data with at least one plot relevant to the analysis you plan to do (this is exploratory data analysis). An example of a useful visualization could be one that compares the distributions of each of the predictor variables you plan to use in your analysis. "
   ]
  },
  {
   "cell_type": "code",
   "execution_count": 46,
   "id": "e57f5ade-b0b9-4b44-afef-c89b12488475",
   "metadata": {},
   "outputs": [],
   "source": [
    "import pandas as pd \n",
    "\n",
    "tennis_2017=pd.read_csv('https://raw.githubusercontent.com/JeffSackmann/tennis_atp/master/atp_matches_2017.csv').loc[:, [\n",
    "    'match_num',\n",
    "    'surface',\n",
    "    'minutes',\n",
    "    'w_ace',\n",
    "    'l_ace']\n",
    "].dropna().assign(year = '2017')\n",
    "\n",
    "tennis_2018 = pd.read_csv('https://raw.githubusercontent.com/JeffSackmann/tennis_atp/master/atp_matches_2016.csv').loc[:, [\n",
    "    'match_num',\n",
    "    'surface',\n",
    "    'minutes',\n",
    "    'w_ace',\n",
    "    'l_ace']\n",
    "].dropna().assign(year = '2018')\n",
    "\n",
    "\n",
    "tennis_2019 = pd.read_csv('https://raw.githubusercontent.com/JeffSackmann/tennis_atp/master/atp_matches_2019.csv').loc[:, [\n",
    "    'match_num',\n",
    "    'surface',\n",
    "    'minutes',\n",
    "    'w_ace',\n",
    "    'l_ace']\n",
    "].dropna().assign(year = '2019')\n"
   ]
  },
  {
   "cell_type": "markdown",
   "id": "0ceb81ad",
   "metadata": {},
   "source": [
    "### Citations"
   ]
  },
  {
   "cell_type": "code",
   "execution_count": null,
   "id": "726e01cc",
   "metadata": {},
   "outputs": [],
   "source": []
  }
 ],
 "metadata": {
  "kernelspec": {
   "display_name": "Python 3 (ipykernel)",
   "language": "python",
   "name": "python3"
  },
  "language_info": {
   "codemirror_mode": {
    "name": "ipython",
    "version": 3
   },
   "file_extension": ".py",
   "mimetype": "text/x-python",
   "name": "python",
   "nbconvert_exporter": "python",
   "pygments_lexer": "ipython3",
   "version": "3.11.6"
  }
 },
 "nbformat": 4,
 "nbformat_minor": 5
}
